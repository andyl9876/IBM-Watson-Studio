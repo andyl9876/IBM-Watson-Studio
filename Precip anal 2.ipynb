{
    "cells": [
        {
            "cell_type": "code",
            "execution_count": 6,
            "metadata": {},
            "outputs": [
                {
                    "name": "stdout",
                    "output_type": "stream",
                    "text": "+-----+-----+-----+-----+-----+-----+-----+-----+-----+-----+-----+-----+-----+-----+-----+-----+-----+-----+-----+-----+-----+-----+-----+-----+-----+\n|Years|Jan-A|Jan-B|Feb-A|Feb-B|Mar-A|Mar-B|Apr-A|Apr-B|May-A|May-B|Jun-A|Jun-B|Jul-A|Jul-B|Aug-A|Aug-B|Sep-A|Sep-B|Oct-A|Oct-B|Nov-A|Nov-B|Dec-A|Dec-B|\n+-----+-----+-----+-----+-----+-----+-----+-----+-----+-----+-----+-----+-----+-----+-----+-----+-----+-----+-----+-----+-----+-----+-----+-----+-----+\n| 1970|0.964|0.944|0.848|0.872|   NA|0.912|0.892|0.876|0.832|   NA|0.828|0.864|0.844|0.856|0.872|0.856|0.936|0.824| 0.92|0.844|0.804|0.844|0.816|0.928|\n| 1971|   NA|   NA|   NA|0.892| 0.98| 1.26|0.948|   NA|   NA|   NA|   NA|   NA|   NA|0.916|   NA|1.084|0.956|   NA|   NA|0.892|   NA|   NA|0.884|0.948|\n| 1972| 0.88|0.848|0.852|   NA|   NA|   NA|   NA|   NA|   NA|   NA|   NA|   NA|   NA| 1.34|0.996|0.928|   NA|1.056| 0.96|1.108|1.188|1.188| 1.14|   NA|\n| 1973| 0.84|0.908|   NA|0.828|0.992| 0.94|1.044|1.116|1.052|0.864|   NA|   NA| 1.12|1.232| 0.88|1.008|1.128|    1|1.056|1.036|0.956|0.836|0.864|1.112|\n| 1974| 0.94|1.064|1.288|1.156| 1.24|   NA|   NA|0.976|0.912| 1.06|   NA|0.888|1.036|0.892|0.924|0.976|0.884|0.836|   NA| 0.98|1.472|1.092|   NA|1.104|\n+-----+-----+-----+-----+-----+-----+-----+-----+-----+-----+-----+-----+-----+-----+-----+-----+-----+-----+-----+-----+-----+-----+-----+-----+-----+\nonly showing top 5 rows\n\n"
                },
                {
                    "data": {
                        "text/plain": "configurationName = os_b1d6359d6a074b3e9a8a55fb5554fa10_configs\nendpoint_b1d6359d6a074b3e9a8a55fb5554fa10 = https://s3-api.us-geo.objectstorage.service.networklayer.com\ncos = com.ibm.ibmos2spark.CloudObjectStorage@8b971b1b\nspark = org.apache.spark.sql.SparkSession@1f299b59\ndfData1 = [Years: int, Jan-A: string ... 23 more fields]\n"
                    },
                    "metadata": {},
                    "output_type": "display_data"
                },
                {
                    "data": {
                        "text/plain": "getCredentials: ()scala.collection.mutable.HashMap[String,String]\n"
                    },
                    "metadata": {},
                    "output_type": "display_data"
                },
                {
                    "data": {
                        "text/plain": "[Years: int, Jan-A: string ... 23 more fields]"
                    },
                    "execution_count": 6,
                    "metadata": {},
                    "output_type": "execute_result"
                }
            ],
            "source": "// The code was removed by Watson Studio for sharing."
        },
        {
            "cell_type": "code",
            "execution_count": null,
            "metadata": {},
            "outputs": [],
            "source": ""
        },
        {
            "cell_type": "code",
            "execution_count": null,
            "metadata": {},
            "outputs": [],
            "source": ""
        }
    ],
    "metadata": {
        "kernelspec": {
            "display_name": "Scala 2.12 with Spark",
            "language": "scala",
            "name": "scala"
        },
        "language_info": {
            "codemirror_mode": "text/x-scala",
            "file_extension": ".scala",
            "mimetype": "text/x-scala",
            "name": "scala",
            "pygments_lexer": "scala",
            "version": "2.12.12"
        }
    },
    "nbformat": 4,
    "nbformat_minor": 1
}